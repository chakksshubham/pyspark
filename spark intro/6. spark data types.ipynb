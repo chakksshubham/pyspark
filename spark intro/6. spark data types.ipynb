{
 "cells": [
  {
   "cell_type": "markdown",
   "id": "cf3c9689",
   "metadata": {},
   "source": [
    "# Spark Datatypes:\n",
    "- integer type (int)\n",
    "- longtype  (long) example 1000000000 (bigint in sql)\n",
    "- floattype (float)\n",
    "- doubletype (float) example 3.1356334643 \n",
    "- stringtype (string)\n",
    "- datetype (datetime.date)\n",
    "- timestamptype (datetime.datetime)\n",
    "- arraytype (list tuple array)\n",
    "- maptype (dict)\n",
    "\n",
    "We define spark dataframe scheama using spark datatypes.\n",
    "\n",
    "schema in spark can be defined in 2 ways \n",
    "- implicit (using infer schema)\n",
    "- explicit using structtype and structfield to manually define each column type"
   ]
  },
  {
   "cell_type": "code",
   "execution_count": 18,
   "id": "8486cd86",
   "metadata": {},
   "outputs": [
    {
     "name": "stdout",
     "output_type": "stream",
     "text": [
      "+----------+----------+----------+-------+----------------+------------+--------------------+----------------+----------+----+----------+----------+------+----+\n",
      "|booking_id|   doj_raw|       doj|    day|booking_date_raw|booking_date|       booking_route|      route_type|seat_count|fare|ry_user_id|  phone_no|gender| age|\n",
      "+----------+----------+----------+-------+----------------+------------+--------------------+----------------+----------+----+----------+----------+------+----+\n",
      "|   4231262|12/12/2023|2023-12-12|Tuesday|      12/13/2023|  2023-12-13|Vellore-Bangalore...|sub/sector_route|         1| 592|  73006237|9514576721|     M|  35|\n",
      "|   4231263|12/12/2023|2023-12-12|Tuesday|      12/13/2023|  2023-12-13|       Delhi-Lucknow|         primary|         1| 499|  51671687|7908882499|     M|NULL|\n",
      "|   4231264|12/12/2023|2023-12-12|Tuesday|      12/13/2023|  2023-12-13|    Hyderabad-Guntur|         primary|         1| 522|  74522222|9398969525|     F|  33|\n",
      "|   4231272|12/12/2023|2023-12-12|Tuesday|      12/13/2023|  2023-12-13|Tirupati-Bangalor...|sub/sector_route|         1| 499|  48241626|9985998594|     M|  34|\n",
      "|   4231280|12/12/2023|2023-12-12|Tuesday|      12/13/2023|  2023-12-13|      Trichy-Chennai|sub/sector_route|         1| 592|  38520311|9790479005|     M|  28|\n",
      "+----------+----------+----------+-------+----------------+------------+--------------------+----------------+----------+----+----------+----------+------+----+\n",
      "only showing top 5 rows\n",
      "\n",
      "root\n",
      " |-- booking_id: string (nullable = true)\n",
      " |-- doj_raw: string (nullable = true)\n",
      " |-- doj: date (nullable = true)\n",
      " |-- day: string (nullable = true)\n",
      " |-- booking_date_raw: string (nullable = true)\n",
      " |-- booking_date: date (nullable = true)\n",
      " |-- booking_route: string (nullable = true)\n",
      " |-- route_type: string (nullable = true)\n",
      " |-- seat_count: integer (nullable = true)\n",
      " |-- fare: integer (nullable = true)\n",
      " |-- ry_user_id: string (nullable = true)\n",
      " |-- phone_no: string (nullable = true)\n",
      " |-- gender: string (nullable = true)\n",
      " |-- age: integer (nullable = true)\n",
      "\n"
     ]
    }
   ],
   "source": [
    "from os import path\n",
    "from pyspark.sql import SparkSession\n",
    "from pyspark.sql import functions as F\n",
    "from pyspark.sql.types import StructType, StructField, StringType, DateType, IntegerType, TimestampType\n",
    "\n",
    "if __name__ == \"__main__\":\n",
    "    \n",
    "    spark = (\n",
    "        SparkSession.builder\n",
    "        .appName(\"Spark schema infer\")\n",
    "        .master(\"local[2]\")\n",
    "        .getOrCreate()\n",
    "    )\n",
    "\n",
    "    spark.conf.set(\"spark.sql.legacy.timeParserPolicy\", \"LEGACY\")\n",
    "\n",
    "    schema = StructType([\n",
    "        StructField(\"booking_id\", StringType(), True),\t\n",
    "        StructField(\"doj_raw\", StringType(), True),\n",
    "        StructField(\"doj\", DateType(), True),\n",
    "        StructField(\"day\", StringType(), True),\n",
    "        StructField(\"booking_date_raw\", StringType(), True),\n",
    "        StructField(\"booking_date\", DateType(), True),\t\n",
    "        StructField(\"booking_route\", StringType(), True),\t\n",
    "        StructField(\"route_type\", StringType(), True),\t\n",
    "        StructField(\"seat_count\", IntegerType(), True),\t\n",
    "        StructField(\"fare\", IntegerType(), True),\t\n",
    "        StructField(\"ry_user_id\", StringType(), True),\t\n",
    "        StructField(\"phone_no\", StringType(), True),\t\n",
    "        StructField(\"gender\", StringType(), True),\t\n",
    "        StructField(\"age\", IntegerType(), True)\n",
    "    ])\n",
    "\n",
    "    spark_df = (\n",
    "        spark.read\n",
    "        .format(\"csv\")\n",
    "        .option(\"header\",\"true\")\n",
    "        .load(\n",
    "            path = r\"C:\\Users\\shubh\\OneDrive\\Desktop\\validating data.csv\",\n",
    "            encoding = 'utf-8', \n",
    "            schema = schema\n",
    "            )\n",
    "    )\n",
    "\n",
    "    spark_df.show(5)\n",
    "    spark_df.printSchema()"
   ]
  }
 ],
 "metadata": {
  "kernelspec": {
   "display_name": "Python 3",
   "language": "python",
   "name": "python3"
  },
  "language_info": {
   "codemirror_mode": {
    "name": "ipython",
    "version": 3
   },
   "file_extension": ".py",
   "mimetype": "text/x-python",
   "name": "python",
   "nbconvert_exporter": "python",
   "pygments_lexer": "ipython3",
   "version": "3.11.9"
  }
 },
 "nbformat": 4,
 "nbformat_minor": 5
}
