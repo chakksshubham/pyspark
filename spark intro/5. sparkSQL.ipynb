{
 "cells": [
  {
   "cell_type": "code",
   "execution_count": null,
   "id": "ab267fc6",
   "metadata": {},
   "outputs": [
    {
     "name": "stdout",
     "output_type": "stream",
     "text": [
      "+----------+----------+-------+------------+------------------------------+----------------+----------+----+----------+----------+------+----+\n",
      "|booking_id|doj       |day    |booking_date|booking_route                 |route_type      |seat_count|fare|ry_user_id|phone_no  |gender|age |\n",
      "+----------+----------+-------+------------+------------------------------+----------------+----------+----+----------+----------+------+----+\n",
      "|4231262   |12/12/2023|Tuesday|12/13/2023  |Vellore-Bangalore (Bengaluru) |sub/sector_route|1         |592 |73006237  |9514576721|M     |35  |\n",
      "|4231263   |12/12/2023|Tuesday|12/13/2023  |Delhi-Lucknow                 |primary         |1         |499 |51671687  |7908882499|M     |NULL|\n",
      "|4231264   |12/12/2023|Tuesday|12/13/2023  |Hyderabad-Guntur              |primary         |1         |522 |74522222  |9398969525|F     |33  |\n",
      "|4231272   |12/12/2023|Tuesday|12/13/2023  |Tirupati-Bangalore (Bengaluru)|sub/sector_route|1         |499 |48241626  |9985998594|M     |34  |\n",
      "|4231280   |12/12/2023|Tuesday|12/13/2023  |Trichy-Chennai                |sub/sector_route|1         |592 |38520311  |9790479005|M     |28  |\n",
      "+----------+----------+-------+------------+------------------------------+----------------+----------+----+----------+----------+------+----+\n",
      "only showing top 5 rows\n",
      "\n",
      "+--------------------+-------------+\n",
      "|       booking_route|booking_count|\n",
      "+--------------------+-------------+\n",
      "|       Lucknow-Delhi|         2572|\n",
      "|       Delhi-Lucknow|         2505|\n",
      "|Chennai-Bangalore...|         1852|\n",
      "|Bangalore (Bengal...|         1787|\n",
      "|Hyderabad-Bangalo...|         1296|\n",
      "|Bangalore (Bengal...|         1082|\n",
      "|        Delhi-Manali|          939|\n",
      "|     Chennai-Madurai|          930|\n",
      "|      Delhi-Amritsar|          842|\n",
      "|        Manali-Delhi|          828|\n",
      "+--------------------+-------------+\n",
      "\n"
     ]
    }
   ],
   "source": [
    "from pyspark.sql import SparkSession\n",
    "import pyspark.sql.functions as F\n",
    "\n",
    "if __name__ == \"__main__\":\n",
    "\n",
    "   spark = (\n",
    "      SparkSession.builder\n",
    "      .appName(\"spark-sql\")\n",
    "      .master (\"local[*]\")\n",
    "      .getOrCreate()\n",
    "   )\n",
    "\n",
    "   spark_df = spark.read.csv(\n",
    "      path = r\"C:\\Users\\shubh\\OneDrive\\Desktop\\validating data.csv\",\n",
    "        header = True,\n",
    "        inferSchema = True  \n",
    "   )\n",
    "\n",
    "   spark_df.show(5,truncate = False)\n",
    "\n",
    "   #spark sql only runs on view or table and spark can help you convert df to view\n",
    "\n",
    "   spark.conf.set(\"spark.sql.legacy.timeParserPolicy\", \"LEGACY\")\n",
    "   spark_view = spark_df.createOrReplaceTempView(\"spark_view\")    \n",
    "\n",
    "   spark.sql(\n",
    "      \"\"\"\n",
    "      WITH transformed_doj AS (\n",
    "         SELECT\n",
    "               *,\n",
    "               to_date(doj, 'MM/dd/yyyy') AS transformed_doj\n",
    "         FROM spark_view\n",
    "      )\n",
    "      SELECT\n",
    "         booking_route,\n",
    "         COUNT(*) AS booking_count\n",
    "      FROM transformed_doj\n",
    "      WHERE age BETWEEN 18 AND 30\n",
    "      GROUP BY booking_route\n",
    "      ORDER BY booking_count DESC\n",
    "      LIMIT 10\n",
    "      \"\"\"\n",
    "   ).show()\n",
    "\n",
    "   # the spark sql and data frame apis are perfoming on top of spark sql engine which acts as catalyst\n",
    "   # The catalyst :\n",
    "      # analyse the code and checkes for errors\n",
    "      # optimizes the code and generates the execution plan\n",
    "      # executes the code and returns the result\n",
    "   # The catalyst is the core of spark sql and it is responsible for query optimization and execution\n",
    "\n"
   ]
  },
  {
   "cell_type": "code",
   "execution_count": null,
   "id": "ffcfddde",
   "metadata": {},
   "outputs": [],
   "source": []
  }
 ],
 "metadata": {
  "kernelspec": {
   "display_name": "Python 3",
   "language": "python",
   "name": "python3"
  },
  "language_info": {
   "codemirror_mode": {
    "name": "ipython",
    "version": 3
   },
   "file_extension": ".py",
   "mimetype": "text/x-python",
   "name": "python",
   "nbconvert_exporter": "python",
   "pygments_lexer": "ipython3",
   "version": "3.11.9"
  }
 },
 "nbformat": 4,
 "nbformat_minor": 5
}
