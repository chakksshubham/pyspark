{
 "cells": [
  {
   "cell_type": "markdown",
   "id": "35bdbc1c",
   "metadata": {},
   "source": [
    "%md \n",
    "# Defining transformations:\n",
    "- creating a new dataset with \n",
    "    - combining 2 or more dataframes\n",
    "    - aggregating and summarizing data\n",
    "    - applying various functions\n",
    "\n",
    "- Two forms of transformations:\n",
    "    - rows\n",
    "    - columns \n",
    "\n",
    "- Columns are spark object of type column\n",
    "- Column cannot be referenced outside the dataframe and manipulate indipendently \n",
    "- Columns are always used within transformation\n",
    "\n",
    "## Accessing columns \n",
    "- 2 ways to refer to a column in a dataframe\n",
    "  - col string \n",
    "    - simplest method to access col (df.select()).\n",
    "    -  spark gives bunch of transformations that take column string as transformations like select, drop, order by, group by.\n",
    "  - col object \n",
    "    - second way is to access using column object.\n",
    "    - the simplest form is using the col or column function but there are other ways as well.\n",
    "    - we can use column string and col method in same transformation as well.\n",
    "    - most of the transforamtion will offer both the options and it depends on personal choice to choose.\n",
    "\n",
    "## Creating Column expressions\n",
    "- Column expressions are formulas or transformations applied to DataFrame columns. They help you manipulate, filter, or create new columns using existing data.\n",
    "- example: \n",
    "    - col(\"age\") + 5\n",
    "    - col(\"name\").substr(1, 3)\n",
    "- In PySpark, there are two main types of column expressions:\n",
    "    - Column String expressions/SQL Expressions\n",
    "        - These are expressions written as strings, often resembling SQL syntax.\n",
    "        - When you want to write familiar SQL-style expressions, especially involving calculations or functions in a concise way.\n",
    "        - df.selectExpr(\"fare * 0.9 as discounted_fare\").show()\n",
    "        - df.withColumn(\"discounted_fare\", expr(\"fare * 0.9\"))\n",
    "    \n",
    "    - Column Object expressions\n",
    "        - These use PySpark functions and column objects (like col(\"column_name\")). \n",
    "        - They are more flexible and more readable for complex transformations.\n",
    "        - df.withColumn(\"uppercase_name\", upper(col(\"name\")))\n",
    "        - df.withColumn(\"adjusted_fare\", (col(\"fare\") * 0.9).cast(\"int\"))\n"
   ]
  },
  {
   "cell_type": "code",
   "execution_count": 2,
   "id": "9c73f2f5",
   "metadata": {},
   "outputs": [],
   "source": [
    "# loading the dataset\n",
    "from pyspark.sql import SparkSession\n",
    "from pyspark.sql.functions import *\n",
    "\n",
    "if __name__ == \"__main__\":\n",
    "\n",
    "    spark = (\n",
    "        SparkSession.builder\n",
    "        .appName('Spark col transformation')\n",
    "        .getOrCreate()\n",
    "    )\n",
    "             \n",
    "\n",
    "    flights_df = (\n",
    "        spark.read\n",
    "        .format('csv')\n",
    "        .option('inferSchema','true')\n",
    "        .option('header','true')\n",
    "        .option('samplingRatio','0.001')\n",
    "        .load(\n",
    "            path = r'C:\\Users\\shubh\\OneDrive\\Documents\\Visual Studio 2017\\datasets\\flights.csv', # gotta download the flights dataset to work\n",
    "            encoding = 'utf-8'\n",
    "        )   \n",
    "    )"
   ]
  },
  {
   "cell_type": "code",
   "execution_count": 10,
   "id": "635ebcd6",
   "metadata": {},
   "outputs": [
    {
     "name": "stdout",
     "output_type": "stream",
     "text": [
      "100000\n",
      "+----+-----+----------+---------+-------+----------+-------+----------+-------------+---------+-------+-----------------+--------------+-------+--------+--------+------+----+--------+------+-------+---------+----------------+--------+------------+------------+--------+-------------+-----------------+\n",
      "|Year|Month|DayofMonth|DayOfWeek|DepTime|CRSDepTime|ArrTime|CRSArrTime|UniqueCarrier|FlightNum|TailNum|ActualElapsedTime|CRSElapsedTime|AirTime|ArrDelay|DepDelay|Origin|Dest|Distance|TaxiIn|TaxiOut|Cancelled|CancellationCode|Diverted|CarrierDelay|WeatherDelay|NASDelay|SecurityDelay|LateAircraftDelay|\n",
      "+----+-----+----------+---------+-------+----------+-------+----------+-------------+---------+-------+-----------------+--------------+-------+--------+--------+------+----+--------+------+-------+---------+----------------+--------+------------+------------+--------+-------------+-----------------+\n",
      "|2008|    1|         3|        4|   2003|      1955|   2211|      2225|           WN|      335| N712SW|              128|           150|    116|     -14|       8|   IAD| TPA|     810|     4|      8|        0|            NULL|       0|          NA|          NA|      NA|           NA|               NA|\n",
      "|2008|    1|         3|        4|    754|       735|   1002|      1000|           WN|     3231| N772SW|              128|           145|    113|       2|      19|   IAD| TPA|     810|     5|     10|        0|            NULL|       0|          NA|          NA|      NA|           NA|               NA|\n",
      "|2008|    1|         3|        4|    628|       620|    804|       750|           WN|      448| N428WN|               96|            90|     76|      14|       8|   IND| BWI|     515|     3|     17|        0|            NULL|       0|          NA|          NA|      NA|           NA|               NA|\n",
      "|2008|    1|         3|        4|    926|       930|   1054|      1100|           WN|     1746| N612SW|               88|            90|     78|      -6|      -4|   IND| BWI|     515|     3|      7|        0|            NULL|       0|          NA|          NA|      NA|           NA|               NA|\n",
      "|2008|    1|         3|        4|   1829|      1755|   1959|      1925|           WN|     3920| N464WN|               90|            90|     77|      34|      34|   IND| BWI|     515|     3|     10|        0|            NULL|       0|           2|           0|       0|            0|               32|\n",
      "+----+-----+----------+---------+-------+----------+-------+----------+-------------+---------+-------+-----------------+--------------+-------+--------+--------+------+----+--------+------+-------+---------+----------------+--------+------------+------------+--------+-------------+-----------------+\n",
      "only showing top 5 rows\n",
      "\n",
      "root\n",
      " |-- Year: integer (nullable = true)\n",
      " |-- Month: integer (nullable = true)\n",
      " |-- DayofMonth: integer (nullable = true)\n",
      " |-- DayOfWeek: integer (nullable = true)\n",
      " |-- DepTime: string (nullable = true)\n",
      " |-- CRSDepTime: integer (nullable = true)\n",
      " |-- ArrTime: string (nullable = true)\n",
      " |-- CRSArrTime: integer (nullable = true)\n",
      " |-- UniqueCarrier: string (nullable = true)\n",
      " |-- FlightNum: integer (nullable = true)\n",
      " |-- TailNum: string (nullable = true)\n",
      " |-- ActualElapsedTime: string (nullable = true)\n",
      " |-- CRSElapsedTime: integer (nullable = true)\n",
      " |-- AirTime: string (nullable = true)\n",
      " |-- ArrDelay: string (nullable = true)\n",
      " |-- DepDelay: string (nullable = true)\n",
      " |-- Origin: string (nullable = true)\n",
      " |-- Dest: string (nullable = true)\n",
      " |-- Distance: integer (nullable = true)\n",
      " |-- TaxiIn: string (nullable = true)\n",
      " |-- TaxiOut: string (nullable = true)\n",
      " |-- Cancelled: integer (nullable = true)\n",
      " |-- CancellationCode: string (nullable = true)\n",
      " |-- Diverted: integer (nullable = true)\n",
      " |-- CarrierDelay: string (nullable = true)\n",
      " |-- WeatherDelay: string (nullable = true)\n",
      " |-- NASDelay: string (nullable = true)\n",
      " |-- SecurityDelay: string (nullable = true)\n",
      " |-- LateAircraftDelay: string (nullable = true)\n",
      "\n"
     ]
    }
   ],
   "source": [
    "print(flights_df.count())\n",
    "flights_df.show(5)\n",
    "flights_df.printSchema()"
   ]
  },
  {
   "cell_type": "code",
   "execution_count": 12,
   "id": "4e383172",
   "metadata": {},
   "outputs": [
    {
     "name": "stdout",
     "output_type": "stream",
     "text": [
      "+---------+-------+--------+\n",
      "|FlightNum|AirTime|ArrDelay|\n",
      "+---------+-------+--------+\n",
      "|      335|    116|     -14|\n",
      "|     3231|    113|       2|\n",
      "|      448|     76|      14|\n",
      "|     1746|     78|      -6|\n",
      "|     3920|     77|      34|\n",
      "+---------+-------+--------+\n",
      "only showing top 5 rows\n",
      "\n"
     ]
    }
   ],
   "source": [
    "# Referencing columns using column strings \n",
    "flights_df.select('FlightNum','AirTime','ArrDelay').show(5)"
   ]
  },
  {
   "cell_type": "code",
   "execution_count": 13,
   "id": "6162e01f",
   "metadata": {},
   "outputs": [
    {
     "name": "stdout",
     "output_type": "stream",
     "text": [
      "+---------+-------+--------+\n",
      "|FlightNum|Airtime|ArrDelay|\n",
      "+---------+-------+--------+\n",
      "|      335|    116|     -14|\n",
      "|     3231|    113|       2|\n",
      "|      448|     76|      14|\n",
      "|     1746|     78|      -6|\n",
      "|     3920|     77|      34|\n",
      "+---------+-------+--------+\n",
      "only showing top 5 rows\n",
      "\n"
     ]
    }
   ],
   "source": [
    "# Referencing a column using a column object \n",
    "\n",
    "flights_df.select(\n",
    "    column('FlightNum'),\n",
    "    col('Airtime'),\n",
    "    'ArrDelay'\n",
    ").show(5)"
   ]
  },
  {
   "cell_type": "code",
   "execution_count": 21,
   "id": "abc9b7c2",
   "metadata": {},
   "outputs": [
    {
     "name": "stdout",
     "output_type": "stream",
     "text": [
      "+------+----+--------+-----------+\n",
      "|Origin|Dest|Distance|flight_date|\n",
      "+------+----+--------+-----------+\n",
      "|   IAD| TPA|     810| 2008-01-03|\n",
      "|   IAD| TPA|     810| 2008-01-03|\n",
      "|   IND| BWI|     515| 2008-01-03|\n",
      "|   IND| BWI|     515| 2008-01-03|\n",
      "|   IND| BWI|     515| 2008-01-03|\n",
      "+------+----+--------+-----------+\n",
      "only showing top 5 rows\n",
      "\n"
     ]
    }
   ],
   "source": [
    "# creating column expression using column string expression\n",
    "spark.sql(\"SET spark.sql.legacy.timeParserPolicy = LEGACY\")\n",
    "\n",
    "flights_df.select(\n",
    "    'Origin',\n",
    "    'Dest',\n",
    "    'Distance',\n",
    "    expr(\"to_date(concat_ws('-',Year,Month,DayofMonth),'yyyy-MM-dd') as flight_date\") # we have to use expr function as the select transformation only takes col object and not expression thus we need to convert the expression to column object\n",
    ").show(5)"
   ]
  },
  {
   "cell_type": "code",
   "execution_count": 27,
   "id": "27559c12",
   "metadata": {},
   "outputs": [
    {
     "name": "stdout",
     "output_type": "stream",
     "text": [
      "+------+----+--------+-----------+\n",
      "|Origin|Dest|Distance|flight_date|\n",
      "+------+----+--------+-----------+\n",
      "|   IAD| TPA|     810| 2008-01-03|\n",
      "|   IAD| TPA|     810| 2008-01-03|\n",
      "|   IND| BWI|     515| 2008-01-03|\n",
      "|   IND| BWI|     515| 2008-01-03|\n",
      "|   IND| BWI|     515| 2008-01-03|\n",
      "+------+----+--------+-----------+\n",
      "only showing top 5 rows\n",
      "\n"
     ]
    }
   ],
   "source": [
    "# creating a column object expressions\n",
    "\n",
    "flights_df.select(\n",
    "  'Origin',\n",
    "  'Dest',\n",
    "  'Distance',\n",
    "  to_date(\n",
    "    concat_ws(\n",
    "      \"-\",\n",
    "      col(\"Year\"),\n",
    "      col(\"Month\"),\n",
    "      col(\"DayOfMonth\")\n",
    "    ),\n",
    "    \"yyyy-MM-dd\"\n",
    "  ).alias('flight_date')\n",
    ").show(5)"
   ]
  },
  {
   "cell_type": "code",
   "execution_count": null,
   "id": "cbfe82ec",
   "metadata": {},
   "outputs": [],
   "source": []
  }
 ],
 "metadata": {
  "kernelspec": {
   "display_name": "Python 3",
   "language": "python",
   "name": "python3"
  },
  "language_info": {
   "codemirror_mode": {
    "name": "ipython",
    "version": 3
   },
   "file_extension": ".py",
   "mimetype": "text/x-python",
   "name": "python",
   "nbconvert_exporter": "python",
   "pygments_lexer": "ipython3",
   "version": "3.11.9"
  }
 },
 "nbformat": 4,
 "nbformat_minor": 5
}
